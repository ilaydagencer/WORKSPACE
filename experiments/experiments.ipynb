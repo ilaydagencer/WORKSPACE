{
 "cells": [
  {
   "cell_type": "code",
   "execution_count": 3,
   "metadata": {},
   "outputs": [],
   "source": [
    "from pymongo.mongo_client import MongoClient\n",
    "\n",
    "# Yerel MongoDB bağlantısı\n",
    "uri = \"mongodb://localhost:27017/\"\n",
    "client = MongoClient(uri)"
   ]
  },
  {
   "cell_type": "code",
   "execution_count": 2,
   "metadata": {},
   "outputs": [
    {
     "name": "stdout",
     "output_type": "stream",
     "text": [
      "Defaulting to user installation because normal site-packages is not writeable\n",
      "Collecting pymongo\n",
      "  Downloading pymongo-4.10.1-cp310-cp310-manylinux_2_17_x86_64.manylinux2014_x86_64.whl (1.4 MB)\n",
      "\u001b[2K     \u001b[38;2;114;156;31m━━━━━━━━━━━━━━━━━━━━━━━━━━━━━━━━━━━━━━━━\u001b[0m \u001b[32m1.4/1.4 MB\u001b[0m \u001b[31m214.3 kB/s\u001b[0m eta \u001b[36m0:00:00\u001b[0m kB/s\u001b[0m eta \u001b[36m0:00:01\u001b[0m:01\u001b[0m\n",
      "\u001b[?25hCollecting dnspython<3.0.0,>=1.16.0\n",
      "  Downloading dnspython-2.7.0-py3-none-any.whl (313 kB)\n",
      "\u001b[2K     \u001b[38;2;114;156;31m━━━━━━━━━━━━━━━━━━━━━━━━━━━━━━━━━━━━━━━\u001b[0m \u001b[32m313.6/313.6 KB\u001b[0m \u001b[31m5.6 MB/s\u001b[0m eta \u001b[36m0:00:00\u001b[0m MB/s\u001b[0m eta \u001b[36m0:00:01\u001b[0m\n",
      "\u001b[?25hInstalling collected packages: dnspython, pymongo\n",
      "Successfully installed dnspython-2.7.0 pymongo-4.10.1\n"
     ]
    }
   ],
   "source": [
    "! pip install pymongo\n",
    " "
   ]
  },
  {
   "cell_type": "code",
   "execution_count": 4,
   "metadata": {},
   "outputs": [],
   "source": [
    "database=client[\"community\"]"
   ]
  },
  {
   "cell_type": "code",
   "execution_count": 5,
   "metadata": {},
   "outputs": [],
   "source": [
    "collection=database[\"session\"]"
   ]
  },
  {
   "cell_type": "code",
   "execution_count": 6,
   "metadata": {},
   "outputs": [],
   "source": [
    "data={\n",
    "\n",
    "    \"coursename\":\"genai\",\n",
    "    \"instrutorname\":\"ilayda\",\n",
    "    \"modeofsession\":\"english\"\n",
    "}"
   ]
  },
  {
   "cell_type": "code",
   "execution_count": 7,
   "metadata": {},
   "outputs": [
    {
     "data": {
      "text/plain": [
       "{'coursename': 'genai', 'instrutorname': 'ilayda', 'modeofsession': 'english'}"
      ]
     },
     "execution_count": 7,
     "metadata": {},
     "output_type": "execute_result"
    }
   ],
   "source": [
    "data"
   ]
  },
  {
   "cell_type": "code",
   "execution_count": 8,
   "metadata": {},
   "outputs": [
    {
     "data": {
      "text/plain": [
       "InsertOneResult(ObjectId('673c6739bf60fdb5902ce02f'), acknowledged=True)"
      ]
     },
     "execution_count": 8,
     "metadata": {},
     "output_type": "execute_result"
    }
   ],
   "source": [
    "collection.insert_one(data)\n"
   ]
  },
  {
   "cell_type": "code",
   "execution_count": 9,
   "metadata": {},
   "outputs": [],
   "source": [
    "all_record=collection.find()"
   ]
  },
  {
   "cell_type": "code",
   "execution_count": 10,
   "metadata": {},
   "outputs": [
    {
     "name": "stdout",
     "output_type": "stream",
     "text": [
      "{'_id': ObjectId('673c6739bf60fdb5902ce02f'), 'coursename': 'genai', 'instrutorname': 'ilayda', 'modeofsession': 'english'}\n"
     ]
    }
   ],
   "source": [
    "for record in all_record:\n",
    "    print(record)"
   ]
  },
  {
   "cell_type": "code",
   "execution_count": 11,
   "metadata": {},
   "outputs": [
    {
     "data": {
      "text/plain": [
       "InsertManyResult([ObjectId('673c67b6bf60fdb5902ce030'), ObjectId('673c67b6bf60fdb5902ce031')], acknowledged=True)"
      ]
     },
     "execution_count": 11,
     "metadata": {},
     "output_type": "execute_result"
    }
   ],
   "source": [
    "collection.insert_many(\n",
    "    [\n",
    "        {\n",
    "\n",
    "    \"coursename\":\"genai\",\n",
    "    \"instrutorname\":\"ilayda\",\n",
    "    \"modeofsession\":\"english\"\n",
    "},\n",
    "\n",
    "{\n",
    "\n",
    "    \"coursename\":\"mlops\",\n",
    "    \"instrutorname\":\"irem\",\n",
    "    \"modeofsession\":\"english&turkish\"\n",
    "}\n",
    "        \n",
    "    ]\n",
    ")"
   ]
  },
  {
   "cell_type": "code",
   "execution_count": 12,
   "metadata": {},
   "outputs": [],
   "source": [
    "class mongodb_operation:\n",
    "\n",
    "    def __init__(self,client_url: str, database_name: str, collection_name: str=None):\n",
    "        self.client_url=client_url\n",
    "        self.database_name=database_name\n",
    "        self.collection_name=collection_name\n",
    "\n",
    "    def create_client(self):\n",
    "        client=MongoClient(self.client_url)\n",
    "        return client\n",
    "\n",
    "\n",
    "    def create_database(self):\n",
    "        client=self.create_client()\n",
    "        database=client[self.database_name]\n",
    "        return database\n",
    "        \n",
    "    def create_collection(self,collection=None):\n",
    "        database=self.create_database()\n",
    "        collection=database[collection]\n",
    "        return collection\n",
    "\n",
    "    def insert_record(self,record:dict,collection_name:str):\n",
    "        if type(record)==list:\n",
    "            for data in record:\n",
    "                if type(data)!= dict:\n",
    "                    raise TypeError(\"record must be in the dict\")\n",
    "            collection=self.create_collection(collection_name)\n",
    "            collection.insert_many(record)\n",
    "        elif type(record)==dict:\n",
    "            collection=self.create_collection(collection_name)\n",
    "            collection.insert_one(record)\n",
    "\n",
    "    def bulk_insert(self,datafile:str,collection_name:str=None):\n",
    "        self.path=datafile\n",
    "\n",
    "        if self.path.endswith('.csv'):\n",
    "            data=pd.read_csv(self.path,encoding='utf-8')\n",
    "\n",
    "        elif self.path.endswith('.xlsx'):\n",
    "            data=pd.read_excel(self.path,encoding='utf-8')\n",
    "            \n",
    "        datajson=json.loads(data.to_json(orient='record'))\n",
    "        collection=self.create_collection()\n",
    "        collection.insert_many(datajson)"
   ]
  },
  {
   "cell_type": "code",
   "execution_count": 13,
   "metadata": {},
   "outputs": [],
   "source": [
    "#call the mongodb connection \n",
    "client_url = \"mongodb://localhost:27017/\"\n",
    "database = \"mynewdatabase\"\n",
    "collection_name = \"myoldcolumn\""
   ]
  },
  {
   "cell_type": "code",
   "execution_count": 14,
   "metadata": {},
   "outputs": [],
   "source": [
    "mongo=mongodb_operation(client_url,database,collection_name)"
   ]
  },
  {
   "cell_type": "code",
   "execution_count": 15,
   "metadata": {},
   "outputs": [],
   "source": [
    "mongo.insert_record({\"name\":\"ilayda\",\"designation\":\"data scientist\",\"salary\":\"10k\"},collection_name)"
   ]
  },
  {
   "cell_type": "code",
   "execution_count": 16,
   "metadata": {},
   "outputs": [],
   "source": [
    "mongo.insert_record([{\"name\":\"selin\",\"designation\":\"data scientist\",\"salary\":\"10k\"},\n",
    "{\"name\":\"nazlı\",\"designation\":\"sr. data scientist\",\"salary\":\"150k\"},\n",
    "{\"name\":\"sena\",\"designation\":\"lead data scientist\",\"salary\":\"70k\"}\n",
    "],collection_name)"
   ]
  },
  {
   "cell_type": "code",
   "execution_count": null,
   "metadata": {},
   "outputs": [],
   "source": []
  }
 ],
 "metadata": {
  "kernelspec": {
   "display_name": "Python 3",
   "language": "python",
   "name": "python3"
  },
  "language_info": {
   "codemirror_mode": {
    "name": "ipython",
    "version": 3
   },
   "file_extension": ".py",
   "mimetype": "text/x-python",
   "name": "python",
   "nbconvert_exporter": "python",
   "pygments_lexer": "ipython3",
   "version": "3.10.12"
  }
 },
 "nbformat": 4,
 "nbformat_minor": 2
}
